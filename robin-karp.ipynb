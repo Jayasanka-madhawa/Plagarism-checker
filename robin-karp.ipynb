{
 "cells": [
  {
   "cell_type": "code",
   "execution_count": 4,
   "id": "2fe4d085",
   "metadata": {},
   "outputs": [],
   "source": [
    "#import usefull libraries\n",
    "import numpy as np\n",
    "#numpy is an open source library for working on multidimensional arrays\n",
    "import glob\n",
    "#glob is used to read files of the speciied type\n",
    "import os"
   ]
  },
  {
   "cell_type": "code",
   "execution_count": 5,
   "id": "93da07c6",
   "metadata": {},
   "outputs": [],
   "source": [
    "from nltk.tokenize import sent_tokenize,word_tokenize\n",
    "from nltk.stem import PorterStemmer"
   ]
  },
  {
   "cell_type": "code",
   "execution_count": 6,
   "id": "7d5b91fd",
   "metadata": {},
   "outputs": [],
   "source": [
    "document1=\"Software engineering is the discipline of designing, creating and maintaining software by applying technologies and practices from computer science, project management, engineering, application domains, interface design, digital assets management and other fields.\"\n",
    "document2=\" discipline of designing, creating and maintaining software by applying technologies.as well as practices from computer science, project management, engineering, application domains, interface design, digital assets management and other fields.\""
   ]
  },
  {
   "cell_type": "code",
   "execution_count": 7,
   "id": "e950d039",
   "metadata": {},
   "outputs": [
    {
     "name": "stdout",
     "output_type": "stream",
     "text": [
      "Software engineering is the discipline of designing, creating and maintaining software by applying technologies and practices from computer science, project management, engineering, application domains, interface design, digital assets management and other fields.\n",
      "discipline of designing, creating and maintaining software by applying technologies.as well as practices from computer science, project management, engineering, application domains, interface design, digital assets management and other fields.\n"
     ]
    }
   ],
   "source": [
    "#join sentences\n",
    "\n",
    "def joining(doc1,doc2):\n",
    "    doc1=doc1.split()\n",
    "    for i in range(0,doc1.count(' \\n')):\n",
    "        doc1.remove(' \\n')\n",
    "    for i in range(0,doc1.count('\\n')):\n",
    "        doc11.remove('\\n')\n",
    "    doc1=' '.join(doc1)\n",
    "    \n",
    "    \n",
    "    doc2=doc2.split()\n",
    "    for i in range(0,doc2.count(' \\n')):\n",
    "        doc2.remove(' \\n')\n",
    "    for i in range(0,doc2.count('\\n')):\n",
    "        doc2.remove('\\n')\n",
    "    doc2=' '.join(doc2)\n",
    "    return doc1,doc2\n",
    "    \n",
    "\n",
    "docu1,docu2=joining(document1,document2)\n",
    "    \n",
    "print(docu1)\n",
    "print(docu2)"
   ]
  },
  {
   "cell_type": "code",
   "execution_count": 8,
   "id": "26f2cc85",
   "metadata": {},
   "outputs": [],
   "source": [
    "def stemSentence(sentence):\n",
    "    porter= PorterStemmer()\n",
    "    token_words=word_tokenize(sentence)\n",
    "    stem_sentence=[]\n",
    "    for word in token_words:\n",
    "        stem_sentence.append(porter.stem(word))\n",
    "    return \" \".join(stem_sentence)"
   ]
  },
  {
   "cell_type": "code",
   "execution_count": 9,
   "id": "b84807e3",
   "metadata": {},
   "outputs": [],
   "source": [
    "def remove_common_words_steming(main,generic):\n",
    "    main=word_tokenize(main)\n",
    "    for i in main:\n",
    "        #remove common words\n",
    "        resultwords=[word for word in main if word.lower() not in generic]\n",
    "    result=' '.join(resultwords)\n",
    "    result=stemSentence(result)\n",
    "    return result"
   ]
  },
  {
   "cell_type": "code",
   "execution_count": 10,
   "id": "d2691316",
   "metadata": {},
   "outputs": [],
   "source": [
    "common_words=['do','she','they','we','are','is','the','and','a','an','in','as','in','of',',','.']"
   ]
  },
  {
   "cell_type": "code",
   "execution_count": 11,
   "id": "16e95124",
   "metadata": {},
   "outputs": [],
   "source": [
    "document1=remove_common_words_steming(docu1,common_words)\n",
    "document2=remove_common_words_steming(docu2,common_words)"
   ]
  },
  {
   "cell_type": "code",
   "execution_count": 12,
   "id": "687b119e",
   "metadata": {},
   "outputs": [
    {
     "name": "stdout",
     "output_type": "stream",
     "text": [
      "softwar engin disciplin design creat maintain softwar by appli technolog practic from comput scienc project manag engin applic domain interfac design digit asset manag other field\n",
      "disciplin design creat maintain softwar by appli technologies.a well practic from comput scienc project manag engin applic domain interfac design digit asset manag other field\n"
     ]
    }
   ],
   "source": [
    "print(document1)\n",
    "print(document2)"
   ]
  },
  {
   "cell_type": "code",
   "execution_count": 19,
   "id": "0c6e9371",
   "metadata": {},
   "outputs": [],
   "source": [
    "# Following program is the python implementation of\n",
    "# Rabin Karp Algorithm given in CLRS book\n",
    " \n",
    "# d is the number of characters in the input alphabet\n",
    "\n",
    " \n",
    "# pat  -> pattern\n",
    "# txt  -> text\n",
    "# q    -> A prime number\n",
    " \n",
    "def hash_val(pat):\n",
    "    q = 101\n",
    "    d = 256\n",
    "    M = len(pat)\n",
    "    p = 0    # hash value for pattern\n",
    "    h = 1\n",
    "    count=0\n",
    " \n",
    "    # The value of h would be \"pow(d, M-1)%q\"\n",
    "    for i in range(M-1):\n",
    "        h = (h*d)%q\n",
    " \n",
    "    # Calculate the hash value of pattern and first window\n",
    "    # of text\n",
    "    for i in range(M):\n",
    "        p = (d*p + ord(pat[i]))%q\n",
    "\n",
    "    return p\n"
   ]
  },
  {
   "cell_type": "code",
   "execution_count": 23,
   "id": "4aed2c18",
   "metadata": {},
   "outputs": [],
   "source": [
    "doc1 = \"Software\"\n"
   ]
  },
  {
   "cell_type": "code",
   "execution_count": 24,
   "id": "735f012d",
   "metadata": {},
   "outputs": [
    {
     "name": "stdout",
     "output_type": "stream",
     "text": [
      "70\n"
     ]
    }
   ],
   "source": [
    "print(hash_val(doc1))"
   ]
  },
  {
   "cell_type": "code",
   "execution_count": 25,
   "id": "e9a27019",
   "metadata": {},
   "outputs": [
    {
     "data": {
      "text/plain": [
       "-3542633242422467966"
      ]
     },
     "execution_count": 25,
     "metadata": {},
     "output_type": "execute_result"
    }
   ],
   "source": [
    "hash(doc1)"
   ]
  },
  {
   "cell_type": "code",
   "execution_count": 19,
   "id": "8c8f20eb",
   "metadata": {},
   "outputs": [],
   "source": [
    "def plagarism_rk_1(text1,text2):\n",
    "    text2=word_tokenize(text2)\n",
    "    text1=text1+' '\n",
    "    sim=0\n",
    "    for j in range(len(text2)):\n",
    "        s=robin_karp(text1,text2[j])\n",
    "        if s>0:\n",
    "            sim+=1\n",
    "    print(sim)\n",
    "    com=(len(word_tokenize(text1)))\n",
    "    print(com)\n",
    "    plag=sim/com\n",
    "    print(plag)\n",
    "    return plag\n"
   ]
  },
  {
   "cell_type": "code",
   "execution_count": 20,
   "id": "dbda8dbe",
   "metadata": {},
   "outputs": [
    {
     "name": "stdout",
     "output_type": "stream",
     "text": [
      "23\n",
      "26\n",
      "0.8846153846153846\n"
     ]
    },
    {
     "data": {
      "text/plain": [
       "0.8846153846153846"
      ]
     },
     "execution_count": 20,
     "metadata": {},
     "output_type": "execute_result"
    }
   ],
   "source": [
    "plagarism_rk_1(document1,document2)"
   ]
  },
  {
   "cell_type": "code",
   "execution_count": 55,
   "id": "4b4c43d8",
   "metadata": {},
   "outputs": [],
   "source": [
    "def plagarism_rk_2(text1,text2):\n",
    "    text2=word_tokenize(text2)\n",
    "    text1=text1+' '\n",
    "    sim=0\n",
    "    for j in range(len(text2)):\n",
    "        s=robin_karp(text1,text2[j])\n",
    "        if s>0:\n",
    "            sim+=1\n",
    "    print(sim)\n",
    "    com=len(word_tokenize(text1))+len(text2)\n",
    "    print(com)\n",
    "    plag=2*sim/com\n",
    "    print(plag)\n",
    "    return plag\n"
   ]
  },
  {
   "cell_type": "code",
   "execution_count": 56,
   "id": "e3c5b703",
   "metadata": {},
   "outputs": [
    {
     "name": "stdout",
     "output_type": "stream",
     "text": [
      "23\n",
      "51\n",
      "0.9019607843137255\n"
     ]
    },
    {
     "data": {
      "text/plain": [
       "0.9019607843137255"
      ]
     },
     "execution_count": 56,
     "metadata": {},
     "output_type": "execute_result"
    }
   ],
   "source": [
    "plagarism_rk_2(document1,document2)    "
   ]
  }
 ],
 "metadata": {
  "kernelspec": {
   "display_name": "Python 3 (ipykernel)",
   "language": "python",
   "name": "python3"
  },
  "language_info": {
   "codemirror_mode": {
    "name": "ipython",
    "version": 3
   },
   "file_extension": ".py",
   "mimetype": "text/x-python",
   "name": "python",
   "nbconvert_exporter": "python",
   "pygments_lexer": "ipython3",
   "version": "3.8.10"
  }
 },
 "nbformat": 4,
 "nbformat_minor": 5
}
