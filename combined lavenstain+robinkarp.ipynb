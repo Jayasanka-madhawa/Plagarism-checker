{
 "cells": [
  {
   "cell_type": "code",
   "execution_count": 1,
   "id": "389756f5",
   "metadata": {},
   "outputs": [],
   "source": [
    "#import usefull libraries\n",
    "import numpy as np\n",
    "#numpy is an open source library for working on multidimensional arrays\n",
    "import glob\n",
    "#glob is used to read files of the speciied type\n",
    "import os"
   ]
  },
  {
   "cell_type": "code",
   "execution_count": 27,
   "id": "9477859a",
   "metadata": {},
   "outputs": [],
   "source": [
    "from nltk.tokenize import sent_tokenize,word_tokenize\n",
    "from nltk.stem import PorterStemmer"
   ]
  },
  {
   "cell_type": "code",
   "execution_count": 2,
   "id": "51b86fc0",
   "metadata": {},
   "outputs": [
    {
     "name": "stdout",
     "output_type": "stream",
     "text": [
      "posix\n"
     ]
    }
   ],
   "source": [
    "print(os.name)"
   ]
  },
  {
   "cell_type": "code",
   "execution_count": 28,
   "id": "96a860e2",
   "metadata": {},
   "outputs": [],
   "source": [
    "def stemSentence(sentence):\n",
    "    porter= PorterStemmer()\n",
    "    token_words=word_tokenize(sentence)\n",
    "    stem_sentence=[]\n",
    "    for word in token_words:\n",
    "        stem_sentence.append(porter.stem(word))\n",
    "    return \" \".join(stem_sentence)"
   ]
  },
  {
   "cell_type": "code",
   "execution_count": 30,
   "id": "798c92b4",
   "metadata": {},
   "outputs": [],
   "source": [
    "def remove_common_words_steming(main,generic):\n",
    "    main=word_tokenize(main)\n",
    "    for i in main:\n",
    "        #remove common words\n",
    "        resultwords=[word for word in main if word.lower() not in generic]\n",
    "    result=' '.join(resultwords)\n",
    "    result=stemSentence(result)\n",
    "    return result"
   ]
  },
  {
   "cell_type": "code",
   "execution_count": 31,
   "id": "71dd42b8",
   "metadata": {},
   "outputs": [],
   "source": [
    "common_words=['do','she','they','we','are','is','the','and','a','an','in','as','in','of',',','.']"
   ]
  },
  {
   "cell_type": "code",
   "execution_count": 3,
   "id": "4c5f40d1",
   "metadata": {},
   "outputs": [],
   "source": [
    "def hash_val(word):\n",
    "    q = 101\n",
    "    d = 256\n",
    "    M = len(word)\n",
    "    p = 0    # hash value for pattern\n",
    "    h = 1\n",
    "    count=0\n",
    " \n",
    "    # The value of h would be \"pow(d, M-1)%q\"\n",
    "    for i in range(M-1):\n",
    "        h = (h*d)%q\n",
    " \n",
    "    # Calculate the hash value of pattern and first window\n",
    "    # of text\n",
    "    for i in range(M):\n",
    "        p = (d*p + ord(word[i]))%q\n",
    "\n",
    "    return p\n"
   ]
  },
  {
   "cell_type": "code",
   "execution_count": 4,
   "id": "d59296c7",
   "metadata": {},
   "outputs": [],
   "source": [
    "def text2hash(txt1):\n",
    "    arr=[]\n",
    "    words=txt1.split(' ')\n",
    "    for i in words:\n",
    "        arr.append(hash_val(i))\n",
    "    return arr"
   ]
  },
  {
   "cell_type": "code",
   "execution_count": 5,
   "id": "f7671774",
   "metadata": {},
   "outputs": [],
   "source": [
    "def levenshtein(seq1, seq2):\n",
    "    size_x = len(seq1) + 1\n",
    "    size_y = len(seq2) + 1\n",
    " \n",
    "  # defining a zero matrix of size of first string * second string\n",
    "    matrix = np.zeros ((size_x, size_y)) \n",
    " \n",
    "    for x in range(size_x):\n",
    "        matrix [x, 0] = x # row aray with elements of x\n",
    "    for y in range(size_y):\n",
    "        matrix [0, y] = y # column array with elements of y\n",
    "    for x in range(1, size_x):\n",
    "        for y in range(1, size_y):\n",
    "            if seq1[x-1] == seq2[y-1]: # if the number at the postion is same\n",
    "                matrix [x,y] = min(\n",
    "                    matrix[x-1, y] + 1,\n",
    "                    matrix[x-1, y-1],\n",
    "                    matrix[x, y-1] + 1\n",
    "                )\n",
    " \n",
    "            else:         # if the number at the position are different\n",
    "                matrix [x,y] = min(\n",
    "                    matrix[x-1,y] + 1,\n",
    "                    matrix[x-1,y-1] + 1,\n",
    "                    matrix[x,y-1] + 1\n",
    "                )\n",
    "    #print(matrix)\n",
    " \n",
    "    # returning the levenshtein distance i.e last element of the matrix\n",
    "    return (matrix[size_x - 1, size_y - 1])"
   ]
  },
  {
   "cell_type": "code",
   "execution_count": 33,
   "id": "c785b8bd",
   "metadata": {},
   "outputs": [],
   "source": [
    "doc1 = \"Software is engineering is the discipline is\"\n",
    "doc2= \"is engineering\"\n"
   ]
  },
  {
   "cell_type": "code",
   "execution_count": 36,
   "id": "1a506e73",
   "metadata": {},
   "outputs": [],
   "source": [
    "doc1=remove_common_words_steming(doc1,common_words)\n",
    "doc2=remove_common_words_steming(doc2,common_words)"
   ]
  },
  {
   "cell_type": "code",
   "execution_count": 37,
   "id": "8c1e94fa",
   "metadata": {},
   "outputs": [],
   "source": [
    "def com(doc1,doc2):\n",
    "    s1=text2hash(doc1)\n",
    "    s2=text2hash(doc2)\n",
    "    return levenshtein(s1, s2)"
   ]
  },
  {
   "cell_type": "code",
   "execution_count": 38,
   "id": "d391ea85",
   "metadata": {},
   "outputs": [
    {
     "data": {
      "text/plain": [
       "2.0"
      ]
     },
     "execution_count": 38,
     "metadata": {},
     "output_type": "execute_result"
    }
   ],
   "source": [
    "com(doc1,doc2)"
   ]
  },
  {
   "cell_type": "code",
   "execution_count": 52,
   "id": "b9ff3cc7",
   "metadata": {},
   "outputs": [
    {
     "name": "stdout",
     "output_type": "stream",
     "text": [
      "Enter the percentage of plagiarism allowed\n",
      "2\n"
     ]
    }
   ],
   "source": [
    "  plag = int(input(\"Enter the percentage of plagiarism allowed\\n\"))"
   ]
  },
  {
   "cell_type": "code",
   "execution_count": 53,
   "id": "a9258b26",
   "metadata": {},
   "outputs": [],
   "source": [
    "  k=0\n",
    "  #path1 = input(\"Enter the path of the folder to scan:\\n\")\n",
    "  os.chdir('/home/jayasanka/Documents/plagarism/textfiles')"
   ]
  },
  {
   "cell_type": "code",
   "execution_count": null,
   "id": "730f9b5b",
   "metadata": {},
   "outputs": [],
   "source": [
    "  #enter new answer with name\n",
    "  stuName=str(input(\"Enter your name: \"))\n",
    "  answer=str(input(\":\"))\n",
    "  #save in a text file\n",
    "  f =open(stuName+'.txt',\"w+\")\n",
    "  f.write(answer)\n",
    "  f.close()\n",
    " "
   ]
  },
  {
   "cell_type": "code",
   "execution_count": 55,
   "id": "357a3fae",
   "metadata": {},
   "outputs": [],
   "source": [
    "stuName='jayasanka'"
   ]
  },
  {
   "cell_type": "code",
   "execution_count": 56,
   "id": "b3c7fa4b",
   "metadata": {},
   "outputs": [
    {
     "name": "stdout",
     "output_type": "stream",
     "text": [
      "\n",
      "The text files available are :\n",
      "\n",
      "['fullcopy.txt', 'copy.txt', 'stu1.txt', 'jayasanka.txt', 'stu2.txt', 'madhawa.txt']\n",
      "\n",
      "\n",
      "26 26\n",
      "0.0 26\n",
      "For the files fullcopy.txt and jayasanka.txt presentage of plagiarism is  100.0 %  \n",
      "\n",
      "26 27\n",
      "3.0 27\n",
      "For the files copy.txt and jayasanka.txt presentage of plagiarism is  88.89 %  \n",
      "\n",
      "26 37\n",
      "35.0 37\n",
      "For the files stu1.txt and jayasanka.txt presentage of plagiarism is  5.409999999999997 %  \n",
      "\n",
      "26 26\n",
      "26 33\n",
      "31.0 33\n",
      "For the files stu2.txt and jayasanka.txt presentage of plagiarism is  6.060000000000002 %  \n",
      "\n",
      "26 2\n",
      "25.0 26\n",
      "For the files madhawa.txt and jayasanka.txt presentage of plagiarism is  3.8499999999999943 %  \n",
      "\n"
     ]
    }
   ],
   "source": [
    "\n",
    "    newAnsfile=stuName+'.txt'\n",
    "  #opening all text files within the folder and stores them in an array \n",
    "    myFiles = glob.glob('*.txt') \n",
    "    print(\"\\nThe text files available are :\\n\")\n",
    "    print(myFiles)\n",
    "    print(\"\\n\")\n",
    "\n",
    "    newAns=0\n",
    "    for x in range(len(myFiles)):\n",
    "        if myFiles[x]==newAnsfile:\n",
    "            newAns=x\n",
    "            \n",
    "    with open(myFiles[newAns], 'r') as file:\n",
    "        data1 = file.read().replace('\\n', ' ')\n",
    "        str1=remove_common_words_steming(data1,common_words)\n",
    "          #print(str1)\n",
    "    \n",
    "    for i in range(len(myFiles)):\n",
    "        with open(myFiles[i], 'r') as file:\n",
    "            data2 = file.read().replace('\\n', '')\n",
    "            str2=remove_common_words_steming(data2,common_words)\n",
    "        \n",
    "        \n",
    "        length1=len(str1.split(' '))\n",
    "        length2=len(str2.split(' '))\n",
    "        if(length1>length2):\n",
    "              length=length1\n",
    "        else:\n",
    "              length=length2\n",
    "\n",
    "        if (myFiles[i] != myFiles[newAns]):\n",
    "            print('string1:'+str1)\n",
    "            print(str2)\n",
    "            print(com(str1,str2),length)\n",
    "            n = 100-round((com(str1,str2)/length)*100,2)\n",
    "            if(n>plag):\n",
    "              print(\"For the files\",myFiles[i],\"and\",myFiles[newAns],\"presentage of plagiarism is \",n,\"%  \\n\") \n",
    "              #print(com(str1,str2),length)\n",
    "\n",
    "              k = k+1\n",
    "  \n",
    "    if k == 0:\n",
    "        print(\"No documents are plagiarised\")"
   ]
  },
  {
   "cell_type": "markdown",
   "id": "8cc5cdaf",
   "metadata": {},
   "source": [
    "# -----------------------------------------------------------------------------------------"
   ]
  }
 ],
 "metadata": {
  "kernelspec": {
   "display_name": "Python 3 (ipykernel)",
   "language": "python",
   "name": "python3"
  },
  "language_info": {
   "codemirror_mode": {
    "name": "ipython",
    "version": 3
   },
   "file_extension": ".py",
   "mimetype": "text/x-python",
   "name": "python",
   "nbconvert_exporter": "python",
   "pygments_lexer": "ipython3",
   "version": "3.8.10"
  }
 },
 "nbformat": 4,
 "nbformat_minor": 5
}
