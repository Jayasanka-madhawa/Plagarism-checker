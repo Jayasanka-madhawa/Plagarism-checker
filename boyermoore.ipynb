{
 "cells": [
  {
   "cell_type": "code",
   "execution_count": 1,
   "id": "46d2a562",
   "metadata": {},
   "outputs": [
    {
     "name": "stdout",
     "output_type": "stream",
     "text": [
      "Requirement already up-to-date: nltk in /home/jayasanka/.local/lib/python3.8/site-packages (3.6.2)\n",
      "Requirement already satisfied, skipping upgrade: tqdm in /home/jayasanka/.local/lib/python3.8/site-packages (from nltk) (4.61.0)\n",
      "Requirement already satisfied, skipping upgrade: joblib in /home/jayasanka/.local/lib/python3.8/site-packages (from nltk) (1.0.1)\n",
      "Requirement already satisfied, skipping upgrade: click in /home/jayasanka/.local/lib/python3.8/site-packages (from nltk) (8.0.0)\n",
      "Requirement already satisfied, skipping upgrade: regex in /home/jayasanka/.local/lib/python3.8/site-packages (from nltk) (2021.4.4)\n"
     ]
    }
   ],
   "source": [
    "!pip3 install --user -U nltk"
   ]
  },
  {
   "cell_type": "code",
   "execution_count": 3,
   "id": "dbc26986",
   "metadata": {},
   "outputs": [
    {
     "name": "stderr",
     "output_type": "stream",
     "text": [
      "[nltk_data] Downloading package punkt to /home/jayasanka/nltk_data...\n",
      "[nltk_data]   Package punkt is already up-to-date!\n"
     ]
    },
    {
     "data": {
      "text/plain": [
       "True"
      ]
     },
     "execution_count": 3,
     "metadata": {},
     "output_type": "execute_result"
    }
   ],
   "source": [
    "import nltk\n",
    "nltk.download('punkt')"
   ]
  },
  {
   "cell_type": "code",
   "execution_count": null,
   "id": "7c7df58b",
   "metadata": {},
   "outputs": [],
   "source": [
    "from nltk.tokenize import sent_tokenize,word_tokenize\n",
    "from nltk.stem import PorterStemmer"
   ]
  },
  {
   "cell_type": "code",
   "execution_count": 46,
   "id": "ecb7dee7",
   "metadata": {},
   "outputs": [],
   "source": [
    "document2=\"Software engineering is the discipline of designing, creating and maintaining software by applying technologies and practices from computer science, project management, engineering, application domains, interface design, digital assets management and other fields.\"\n",
    "document1=\" discipline of designing, creating and maintaining software by applying technologies.as well as practices from computer science, project management, engineering, application domains, interface design, digital assets management and other fields.\""
   ]
  },
  {
   "cell_type": "code",
   "execution_count": 47,
   "id": "e371d0f4",
   "metadata": {},
   "outputs": [
    {
     "name": "stdout",
     "output_type": "stream",
     "text": [
      "discipline of designing, creating and maintaining software by applying technologies.as well as practices from computer science, project management, engineering, application domains, interface design, digital assets management and other fields.\n",
      "Software engineering is the discipline of designing, creating and maintaining software by applying technologies and practices from computer science, project management, engineering, application domains, interface design, digital assets management and other fields.\n"
     ]
    }
   ],
   "source": [
    "#join sentences\n",
    "\n",
    "def joining(doc1,doc2):\n",
    "    doc1=doc1.split()\n",
    "    for i in range(0,doc1.count(' \\n')):\n",
    "        doc1.remove(' \\n')\n",
    "    for i in range(0,doc1.count('\\n')):\n",
    "        doc11.remove('\\n')\n",
    "    doc1=' '.join(doc1)\n",
    "    \n",
    "    \n",
    "    doc2=doc2.split()\n",
    "    for i in range(0,doc2.count(' \\n')):\n",
    "        doc2.remove(' \\n')\n",
    "    for i in range(0,doc2.count('\\n')):\n",
    "        doc2.remove('\\n')\n",
    "    doc2=' '.join(doc2)\n",
    "    return doc1,doc2\n",
    "    \n",
    "\n",
    "docu1,docu2=joining(document1,document2)\n",
    "    \n",
    "print(docu1)\n",
    "print(docu2)"
   ]
  },
  {
   "cell_type": "code",
   "execution_count": 48,
   "id": "e6acc4ee",
   "metadata": {},
   "outputs": [],
   "source": [
    "def stemSentence(sentence):\n",
    "    porter= PorterStemmer()\n",
    "    token_words=word_tokenize(sentence)\n",
    "    stem_sentence=[]\n",
    "    for word in token_words:\n",
    "        stem_sentence.append(porter.stem(word))\n",
    "    return \" \".join(stem_sentence)"
   ]
  },
  {
   "cell_type": "code",
   "execution_count": 49,
   "id": "5395aee4",
   "metadata": {},
   "outputs": [],
   "source": [
    "def remove_common_words_steming(main,generic):\n",
    "    main=word_tokenize(main)\n",
    "    for i in main:\n",
    "        #remove common words\n",
    "        resultwords=[word for word in main if word.lower() not in generic]\n",
    "    result=' '.join(resultwords)\n",
    "    result=stemSentence(result)\n",
    "    return result"
   ]
  },
  {
   "cell_type": "code",
   "execution_count": 50,
   "id": "b7c5861e",
   "metadata": {},
   "outputs": [],
   "source": [
    "common_words=['do','she','they','we','are','is','the','and','a','an','in','as','in','of',',','.']"
   ]
  },
  {
   "cell_type": "code",
   "execution_count": 51,
   "id": "ca5af40c",
   "metadata": {},
   "outputs": [],
   "source": [
    "document1=remove_common_words_steming(docu1,common_words)\n",
    "document2=remove_common_words_steming(docu2,common_words)"
   ]
  },
  {
   "cell_type": "code",
   "execution_count": 52,
   "id": "4c5e50b6",
   "metadata": {},
   "outputs": [
    {
     "name": "stdout",
     "output_type": "stream",
     "text": [
      "disciplin design creat maintain softwar by appli technologies.a well practic from comput scienc project manag engin applic domain interfac design digit asset manag other field\n",
      "softwar engin disciplin design creat maintain softwar by appli technolog practic from comput scienc project manag engin applic domain interfac design digit asset manag other field\n"
     ]
    }
   ],
   "source": [
    "print(document1)\n",
    "print(document2)"
   ]
  },
  {
   "cell_type": "code",
   "execution_count": 53,
   "id": "4db9ce6f",
   "metadata": {},
   "outputs": [],
   "source": [
    "def badCharHeuristic(string, size):\n",
    "    NO_OF_CHARS = 256\n",
    "    # Initialize all occurrence as -1\n",
    "    badChar = [-1]*NO_OF_CHARS\n",
    "    \n",
    "    \n",
    "     # Fill the actual value of last occurrence\n",
    "    for i in range(size):\n",
    "        badChar[ord(string[i])] = i;\n",
    "\n",
    "    # retun initialized list\n",
    "    return badChar\n",
    "    \n",
    "def boyer_moore(txt, pat):\n",
    "    m = len(pat)\n",
    "    n = len(txt)\n",
    "    count=0\n",
    "    \n",
    "    badChar = badCharHeuristic(pat, m)\n",
    "    \n",
    "    s = 0\n",
    "    while(s <= n-m):\n",
    "        j = m-1\n",
    "        while j>=0 and pat[j] == txt[s+j]:\n",
    "            j -= 1\n",
    "        if j<0:\n",
    "            count=count+1\n",
    "            #print(\"Pattern occur at shift = {}\".format(s))\n",
    "            s += (m-badChar[ord(txt[s+m])] if s+m<n else 1)\n",
    "        else:\n",
    "            s += max(1, j-badChar[ord(txt[s+j])])\n",
    "    return count "
   ]
  },
  {
   "cell_type": "code",
   "execution_count": 54,
   "id": "7dd7ca9e",
   "metadata": {},
   "outputs": [
    {
     "data": {
      "text/plain": [
       "2"
      ]
     },
     "execution_count": 54,
     "metadata": {},
     "output_type": "execute_result"
    }
   ],
   "source": [
    "text=\"softwar engin discipli creat maintain softwar by appli technolog practic from comput scienc project\"\n",
    "pattern=\"softwar\"\n",
    "boyer_moore(text, pattern)\n"
   ]
  },
  {
   "cell_type": "code",
   "execution_count": 55,
   "id": "7ae4f0b7",
   "metadata": {},
   "outputs": [],
   "source": [
    "#text1=\"softwar engin discipli creat maintain softwar by appli technolog practic from comput scienc project\"\n",
    "#text2=\"softwar engin discipli creat maintain softwar by appli \"\n"
   ]
  },
  {
   "cell_type": "code",
   "execution_count": 61,
   "id": "897a8370",
   "metadata": {},
   "outputs": [],
   "source": [
    "def msx_string(txt1,txt2):\n",
    "    if len(txt2)>len(txt1):\n",
    "        text1=txt2\n",
    "        text2=txt1\n",
    "    else:\n",
    "        text1=txt1\n",
    "        text2=txt2\n",
    "    return text1,text2\n",
    "\n"
   ]
  },
  {
   "cell_type": "code",
   "execution_count": 62,
   "id": "44ee9b96",
   "metadata": {},
   "outputs": [],
   "source": [
    "document1,document2=msx_string(document1,document2)"
   ]
  },
  {
   "cell_type": "code",
   "execution_count": 63,
   "id": "0cafd492",
   "metadata": {},
   "outputs": [],
   "source": [
    "\n",
    "def plagarism_bm_1(text1,text2):\n",
    "    text2=word_tokenize(text2)\n",
    "    text1=text1+' '\n",
    "    sim=0\n",
    "    for j in range(len(text2)):\n",
    "        s=boyer_moore(text1,text2[j])\n",
    "        if s>0:\n",
    "            sim+=1\n",
    "    print(sim)\n",
    "    com=(len(word_tokenize(text1)))\n",
    "    print(com)\n",
    "    plag=sim/com\n",
    "    print(plag)\n",
    "    return plag\n",
    "\n",
    "    "
   ]
  },
  {
   "cell_type": "code",
   "execution_count": 64,
   "id": "e976a228",
   "metadata": {},
   "outputs": [
    {
     "name": "stdout",
     "output_type": "stream",
     "text": [
      "23\n",
      "26\n",
      "0.8846153846153846\n"
     ]
    },
    {
     "data": {
      "text/plain": [
       "0.8846153846153846"
      ]
     },
     "execution_count": 64,
     "metadata": {},
     "output_type": "execute_result"
    }
   ],
   "source": [
    "plagarism_bm_1(document1,document2)"
   ]
  },
  {
   "cell_type": "code",
   "execution_count": 65,
   "id": "f674bdbc",
   "metadata": {},
   "outputs": [],
   "source": [
    "def plagarism_bm_2(text1,text2):\n",
    "    text2=word_tokenize(text2)\n",
    "    text1=text1+' '\n",
    "    sim=0\n",
    "    for j in range(len(text2)):\n",
    "        s=boyer_moore(text1,text2[j])\n",
    "        if s>0:\n",
    "            sim+=1\n",
    "    print(sim)\n",
    "    com=len(word_tokenize(text1))+len(text2)\n",
    "    print(com)\n",
    "    plag=2*sim/com\n",
    "    print(plag)\n",
    "    return plag\n"
   ]
  },
  {
   "cell_type": "code",
   "execution_count": 66,
   "id": "fe4db626",
   "metadata": {},
   "outputs": [
    {
     "name": "stdout",
     "output_type": "stream",
     "text": [
      "23\n",
      "51\n",
      "0.9019607843137255\n"
     ]
    },
    {
     "data": {
      "text/plain": [
       "0.9019607843137255"
      ]
     },
     "execution_count": 66,
     "metadata": {},
     "output_type": "execute_result"
    }
   ],
   "source": [
    "plagarism_bm_2(document1,document2)    "
   ]
  },
  {
   "cell_type": "markdown",
   "id": "1490d255",
   "metadata": {},
   "source": [
    "# extra work"
   ]
  },
  {
   "cell_type": "code",
   "execution_count": 33,
   "id": "8fd13dcd",
   "metadata": {},
   "outputs": [
    {
     "name": "stdout",
     "output_type": "stream",
     "text": [
      "softwar \n",
      "softwar engin \n",
      "softwar engin discipli \n",
      "softwar engin discipli creat \n",
      "softwar engin discipli creat maintain \n",
      "softwar engin discipli creat maintain softwar \n",
      "softwar engin discipli creat maintain softwar by \n",
      "softwar engin discipli creat maintain softwar by appli \n",
      "softwar engin discipli creat maintain softwar by appli technolog \n",
      "engin \n",
      "engin discipli \n",
      "engin discipli creat \n",
      "engin discipli creat maintain \n",
      "engin discipli creat maintain softwar \n",
      "engin discipli creat maintain softwar by \n",
      "engin discipli creat maintain softwar by appli \n",
      "engin discipli creat maintain softwar by appli technolog \n",
      "discipli \n",
      "discipli creat \n",
      "discipli creat maintain \n",
      "discipli creat maintain softwar \n",
      "discipli creat maintain softwar by \n",
      "discipli creat maintain softwar by appli \n",
      "discipli creat maintain softwar by appli technolog \n",
      "creat \n",
      "creat maintain \n",
      "creat maintain softwar \n",
      "creat maintain softwar by \n",
      "creat maintain softwar by appli \n",
      "creat maintain softwar by appli technolog \n",
      "maintain \n",
      "maintain softwar \n",
      "maintain softwar by \n",
      "maintain softwar by appli \n",
      "maintain softwar by appli technolog \n",
      "softwar \n",
      "softwar by \n",
      "softwar by appli \n",
      "softwar by appli technolog \n",
      "by \n",
      "by appli \n",
      "by appli technolog \n",
      "appli \n",
      "appli technolog \n",
      "technolog \n",
      "45\n",
      "45.0\n",
      "1.0\n"
     ]
    }
   ],
   "source": [
    "text1=\"softwar engin discipli creat maintain softwar by appli technolog practic from comput scienc project\"\n",
    "text2=\"softwar engin discipli creat maintain softwar by appli technolog \"\n",
    "\n",
    "text2=word_tokenize(text2)\n",
    "text1=text1+' '\n",
    "sim=0\n",
    "for j in range(len(text2)):\n",
    "    pat=''\n",
    "    for word in text2[j:]:\n",
    "        pat=pat+word+' '\n",
    "        print(pat)\n",
    "        s=boyer_moore(text1,pat)\n",
    "        if s>0:\n",
    "            sim+=1\n",
    "print(sim)\n",
    "com=(len(text2)*(len(text2)+1)/2)\n",
    "print(com)\n",
    "plag=sim/com\n",
    "print(plag)\n",
    "    "
   ]
  },
  {
   "cell_type": "code",
   "execution_count": 34,
   "id": "685cb8f6",
   "metadata": {},
   "outputs": [
    {
     "name": "stdout",
     "output_type": "stream",
     "text": [
      "softwar \n",
      "1\n",
      "softwar engin \n",
      "3\n",
      "softwar engin discipli \n",
      "6\n",
      "softwar engin discipli creat \n",
      "6\n",
      "softwar engin discipli creat maintain \n",
      "6\n",
      "softwar engin discipli creat maintain softwar \n",
      "6\n",
      "softwar engin discipli creat maintain softwar by \n",
      "6\n",
      "softwar engin discipli creat maintain softwar by appli \n",
      "6\n",
      "softwar engin discipli creat maintain softwar by appli technolog \n",
      "6\n",
      "softwar engin discipli creat maintain softwar by appli technolog practic \n",
      "6\n",
      "engin \n",
      "7\n",
      "engin discipli \n",
      "9\n",
      "engin discipli creat \n",
      "9\n",
      "engin discipli creat maintain \n",
      "9\n",
      "engin discipli creat maintain softwar \n",
      "9\n",
      "engin discipli creat maintain softwar by \n",
      "9\n",
      "engin discipli creat maintain softwar by appli \n",
      "9\n",
      "engin discipli creat maintain softwar by appli technolog \n",
      "9\n",
      "engin discipli creat maintain softwar by appli technolog practic \n",
      "9\n",
      "discipli \n",
      "10\n",
      "discipli creat \n",
      "10\n",
      "discipli creat maintain \n",
      "10\n",
      "discipli creat maintain softwar \n",
      "10\n",
      "discipli creat maintain softwar by \n",
      "10\n",
      "discipli creat maintain softwar by appli \n",
      "10\n",
      "discipli creat maintain softwar by appli technolog \n",
      "10\n",
      "discipli creat maintain softwar by appli technolog practic \n",
      "10\n",
      "creat \n",
      "11\n",
      "creat maintain \n",
      "13\n",
      "creat maintain softwar \n",
      "16\n",
      "creat maintain softwar by \n",
      "20\n",
      "creat maintain softwar by appli \n",
      "25\n",
      "creat maintain softwar by appli technolog \n",
      "31\n",
      "creat maintain softwar by appli technolog practic \n",
      "38\n",
      "maintain \n",
      "39\n",
      "maintain softwar \n",
      "41\n",
      "maintain softwar by \n",
      "44\n",
      "maintain softwar by appli \n",
      "48\n",
      "maintain softwar by appli technolog \n",
      "53\n",
      "maintain softwar by appli technolog practic \n",
      "59\n",
      "softwar \n",
      "60\n",
      "softwar by \n",
      "62\n",
      "softwar by appli \n",
      "65\n",
      "softwar by appli technolog \n",
      "69\n",
      "softwar by appli technolog practic \n",
      "74\n",
      "by \n",
      "75\n",
      "by appli \n",
      "77\n",
      "by appli technolog \n",
      "80\n",
      "by appli technolog practic \n",
      "84\n",
      "appli \n",
      "85\n",
      "appli technolog \n",
      "87\n",
      "appli technolog practic \n",
      "90\n",
      "technolog \n",
      "91\n",
      "technolog practic \n",
      "93\n",
      "practic \n",
      "94\n",
      "0.42727272727272725\n"
     ]
    }
   ],
   "source": [
    "#developed method\n",
    "text1=\"softwar engin discipli id creat maintain softwar by appli technolog practic from comput scienc project\"\n",
    "text2=\"softwar engin discipli creat maintain softwar by appli technolog practic \"\n",
    "\n",
    "text2=word_tokenize(text2)\n",
    "text1=text1+' '\n",
    "#sim=0\n",
    "sum_l=0\n",
    "it_sim=0\n",
    "for j in range(len(text2)):\n",
    "    pat=''\n",
    "    l=0\n",
    "    for word in text2[j:]:\n",
    "        pat=pat+word+' '\n",
    "        print(pat)\n",
    "        s=boyer_moore(text1,pat)\n",
    "        l=len(word_tokenize(pat))\n",
    "        sum_l+=l\n",
    "        if s>0:\n",
    "            it_sim+=l\n",
    "        print(it_sim)\n",
    "it_sim=it_sim/sum_l\n",
    "#sim+=it_sim\n",
    "print(it_sim)\n",
    "\n",
    "com=(len(text2)*(len(text2)+1)/2)\n",
    "#plag=sim/len(text1)\n",
    "#print(plag)"
   ]
  },
  {
   "cell_type": "code",
   "execution_count": null,
   "id": "bb7d9d9b",
   "metadata": {},
   "outputs": [],
   "source": []
  }
 ],
 "metadata": {
  "kernelspec": {
   "display_name": "Python 3 (ipykernel)",
   "language": "python",
   "name": "python3"
  },
  "language_info": {
   "codemirror_mode": {
    "name": "ipython",
    "version": 3
   },
   "file_extension": ".py",
   "mimetype": "text/x-python",
   "name": "python",
   "nbconvert_exporter": "python",
   "pygments_lexer": "ipython3",
   "version": "3.8.10"
  }
 },
 "nbformat": 4,
 "nbformat_minor": 5
}
